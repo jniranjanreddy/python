{
 "cells": [
  {
   "cell_type": "code",
   "execution_count": 3,
   "id": "770167c6-ee68-42c5-a077-71f93ac03c87",
   "metadata": {},
   "outputs": [
    {
     "name": "stdout",
     "output_type": "stream",
     "text": [
      "3\n",
      "6\n",
      "9\n"
     ]
    }
   ],
   "source": [
    "a = range(1,10)\n",
    "for i in a:\n",
    "    if i%3 == 0:\n",
    "        print(i)\n"
   ]
  },
  {
   "cell_type": "code",
   "execution_count": 27,
   "id": "68e859e8-65b1-470b-a3a8-75047b252ae9",
   "metadata": {},
   "outputs": [
    {
     "name": "stdout",
     "output_type": "stream",
     "text": [
      "[0, 1, 2, 3, 4]\n"
     ]
    }
   ],
   "source": [
    "# Comprehensions\n",
    "x = [i for i in range(5)]\n",
    "\n",
    "print(x)"
   ]
  },
  {
   "cell_type": "code",
   "execution_count": 1,
   "id": "108f0005-c87c-427b-911a-d54fe34ae2a8",
   "metadata": {},
   "outputs": [
    {
     "name": "stdout",
     "output_type": "stream",
     "text": [
      "['In', 'Lion', 'Cage', 'The', 'The', 'Keep']\n"
     ]
    }
   ],
   "source": [
    "from random import shuffle\n",
    "x = [\"Keep\", \"The\", \"Lion\", \"In\", \"The\", \"Cage\"]\n",
    "shuffle(x)\n",
    "print(x)"
   ]
  },
  {
   "cell_type": "code",
   "execution_count": 51,
   "id": "d6b6775e-3c91-4382-87a2-f066ca693d44",
   "metadata": {},
   "outputs": [
    {
     "data": {
      "text/plain": [
       "2"
      ]
     },
     "execution_count": 51,
     "metadata": {},
     "output_type": "execute_result"
    }
   ],
   "source": [
    "import random\n",
    "random.random()\n",
    "random.randrange(1,100)\n"
   ]
  },
  {
   "cell_type": "code",
   "execution_count": 53,
   "id": "4b24dfcb-8a35-4442-80a8-53def883f107",
   "metadata": {},
   "outputs": [
    {
     "name": "stdout",
     "output_type": "stream",
     "text": [
      "rama\n"
     ]
    }
   ],
   "source": [
    "a = \"RAMA\"\n",
    "print(a.lower())"
   ]
  },
  {
   "cell_type": "code",
   "execution_count": 12,
   "id": "c7ea3a27-ec9e-4cc6-9a31-d8f48991ab1e",
   "metadata": {},
   "outputs": [
    {
     "name": "stdin",
     "output_type": "stream",
     "text": [
      "Enter a Number 2\n"
     ]
    },
    {
     "name": "stdout",
     "output_type": "stream",
     "text": [
      "2\n"
     ]
    }
   ],
   "source": [
    "a = int(input(\"Enter a Number\"))\n",
    "# if a=1:\n",
    "#     for x in range(2,a):\n",
    "#         if (x%2) == 0:\n",
    "#             print(\"prime\")\n",
    "#             break\n",
    "#             else:\n",
    "#                 print(\"Prime\")\n",
    "# else:\n",
    "#     print(\"Not Prime\")\n",
    "print(a)"
   ]
  },
  {
   "cell_type": "code",
   "execution_count": 15,
   "id": "ab4b87b2-c9bd-4d14-acef-cb252ad6d688",
   "metadata": {},
   "outputs": [
    {
     "name": "stdout",
     "output_type": "stream",
     "text": [
      "ayhdiV scitylanA\n"
     ]
    }
   ],
   "source": [
    "str1 = \"Analytics Vidhya\"\n",
    "str2 = str1[ ::-1 ]\n",
    "print(str2)\n",
    "\n"
   ]
  },
  {
   "cell_type": "code",
   "execution_count": 16,
   "id": "48e912cc-0ffd-484f-8750-4f7e7c4a934d",
   "metadata": {},
   "outputs": [
    {
     "name": "stdout",
     "output_type": "stream",
     "text": [
      "The original string is:  Analytics Vidhya\n",
      "The reversed string is:  ayhdiV scitylanA\n"
     ]
    }
   ],
   "source": [
    "str1 = \"Analytics Vidhya\"\n",
    "str2 = \"\"\n",
    "for i in str1:\n",
    "    str2 = i + str2\n",
    "\n",
    "print(\"The original string is: \", str1)\n",
    "print(\"The reversed string is: \", str2)\n"
   ]
  },
  {
   "cell_type": "code",
   "execution_count": 20,
   "id": "eda47b7d-82f2-4984-9502-0910ad7056fc",
   "metadata": {},
   "outputs": [
    {
     "name": "stdout",
     "output_type": "stream",
     "text": [
      "None\n"
     ]
    }
   ],
   "source": [
    "Mylist = [3, 2, 1]\n",
    "mySort = Mylist.sort()\n",
    "print(mySort)"
   ]
  },
  {
   "cell_type": "code",
   "execution_count": 23,
   "id": "a7be6d92-c280-4aa5-a8b6-161c6689ea86",
   "metadata": {},
   "outputs": [
    {
     "name": "stdout",
     "output_type": "stream",
     "text": [
      "[1, 2, 3]\n"
     ]
    }
   ],
   "source": [
    "my_list = [3, 2, 1]\n",
    "my_list.sort()\n",
    "print(my_list)\n"
   ]
  },
  {
   "cell_type": "code",
   "execution_count": 26,
   "id": "7eb100da-4ad3-4b15-b0ea-06561c2b9c72",
   "metadata": {},
   "outputs": [
    {
     "name": "stdout",
     "output_type": "stream",
     "text": [
      "[2, 3, 4]\n"
     ]
    }
   ],
   "source": [
    "list1 = [1, 2, 3, 4]\n",
    "list1.remove(1)\n",
    "print(list1)\n"
   ]
  },
  {
   "cell_type": "code",
   "execution_count": null,
   "id": "fc30945e-8338-4a14-a821-98370ca08314",
   "metadata": {},
   "outputs": [],
   "source": []
  }
 ],
 "metadata": {
  "kernelspec": {
   "display_name": "Python 3 (ipykernel)",
   "language": "python",
   "name": "python3"
  },
  "language_info": {
   "codemirror_mode": {
    "name": "ipython",
    "version": 3
   },
   "file_extension": ".py",
   "mimetype": "text/x-python",
   "name": "python",
   "nbconvert_exporter": "python",
   "pygments_lexer": "ipython3",
   "version": "3.12.1"
  }
 },
 "nbformat": 4,
 "nbformat_minor": 5
}
