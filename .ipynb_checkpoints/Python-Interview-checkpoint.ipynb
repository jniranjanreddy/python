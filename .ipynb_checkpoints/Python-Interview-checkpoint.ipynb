{
 "cells": [
  {
   "cell_type": "code",
   "execution_count": 57,
   "id": "770167c6-ee68-42c5-a077-71f93ac03c87",
   "metadata": {},
   "outputs": [],
   "source": [
    "a = range(1,10)\n",
    "for i in a:\n",
    "    if i/2 == 0:\n",
    "        print(i)\n"
   ]
  },
  {
   "cell_type": "code",
   "execution_count": 27,
   "id": "68e859e8-65b1-470b-a3a8-75047b252ae9",
   "metadata": {},
   "outputs": [
    {
     "name": "stdout",
     "output_type": "stream",
     "text": [
      "[0, 1, 2, 3, 4]\n"
     ]
    }
   ],
   "source": [
    "# Comprehensions\n",
    "x = [i for i in range(5)]\n",
    "print(x)"
   ]
  },
  {
   "cell_type": "code",
   "execution_count": 38,
   "id": "108f0005-c87c-427b-911a-d54fe34ae2a8",
   "metadata": {},
   "outputs": [
    {
     "name": "stdout",
     "output_type": "stream",
     "text": [
      "['In', 'The', 'Lion', 'Keep', 'The', 'Cage']\n"
     ]
    }
   ],
   "source": [
    "from random import shuffle\n",
    "x = [\"Keep\", \"The\", \"Lion\", \"In\", \"The\", \"Cage\"]\n",
    "shuffle(x)\n",
    "print(x)"
   ]
  },
  {
   "cell_type": "code",
   "execution_count": 51,
   "id": "d6b6775e-3c91-4382-87a2-f066ca693d44",
   "metadata": {},
   "outputs": [
    {
     "data": {
      "text/plain": [
       "2"
      ]
     },
     "execution_count": 51,
     "metadata": {},
     "output_type": "execute_result"
    }
   ],
   "source": [
    "import random\n",
    "random.random()\n",
    "random.randrange(1,100)\n"
   ]
  },
  {
   "cell_type": "code",
   "execution_count": 53,
   "id": "4b24dfcb-8a35-4442-80a8-53def883f107",
   "metadata": {},
   "outputs": [
    {
     "name": "stdout",
     "output_type": "stream",
     "text": [
      "rama\n"
     ]
    }
   ],
   "source": [
    "a = \"RAMA\"\n",
    "print(a.lower())"
   ]
  },
  {
   "cell_type": "code",
   "execution_count": null,
   "id": "c7ea3a27-ec9e-4cc6-9a31-d8f48991ab1e",
   "metadata": {},
   "outputs": [],
   "source": []
  }
 ],
 "metadata": {
  "kernelspec": {
   "display_name": "",
   "name": ""
  },
  "language_info": {
   "name": ""
  }
 },
 "nbformat": 4,
 "nbformat_minor": 5
}
