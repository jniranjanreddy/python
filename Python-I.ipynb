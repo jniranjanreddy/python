{
 "cells": [
  {
   "cell_type": "code",
   "execution_count": 3,
   "id": "770167c6-ee68-42c5-a077-71f93ac03c87",
   "metadata": {},
   "outputs": [
    {
     "name": "stdout",
     "output_type": "stream",
     "text": [
      "3\n",
      "6\n",
      "9\n"
     ]
    }
   ],
   "source": [
    "a = range(1,10)\n",
    "for i in a:\n",
    "    if i%3 == 0:\n",
    "        print(i)\n"
   ]
  },
  {
   "cell_type": "code",
   "execution_count": 4,
   "id": "68e859e8-65b1-470b-a3a8-75047b252ae9",
   "metadata": {},
   "outputs": [
    {
     "name": "stdout",
     "output_type": "stream",
     "text": [
      "[0, 1, 2, 3, 4, 5, 6, 7, 8, 9]\n"
     ]
    }
   ],
   "source": [
    "# Comprehensions\n",
    "x = [i for i in range(0, 10)]\n",
    "\n",
    "print(x)"
   ]
  },
  {
   "cell_type": "code",
   "execution_count": 1,
   "id": "108f0005-c87c-427b-911a-d54fe34ae2a8",
   "metadata": {},
   "outputs": [
    {
     "name": "stdout",
     "output_type": "stream",
     "text": [
      "['The', 'Cage', 'Lion', 'The', 'In', 'Keep']\n"
     ]
    }
   ],
   "source": [
    "from random import shuffle\n",
    "x = [\"Keep\", \"The\", \"Lion\", \"In\", \"The\", \"Cage\"]\n",
    "shuffle(x)\n",
    "print(x)"
   ]
  },
  {
   "cell_type": "code",
   "execution_count": 6,
   "id": "4b24dfcb-8a35-4442-80a8-53def883f107",
   "metadata": {},
   "outputs": [
    {
     "name": "stdout",
     "output_type": "stream",
     "text": [
      "RAMA CHANDRA\n"
     ]
    }
   ],
   "source": [
    "a = \"RaMa ChAndRA\"\n",
    "print(a.upper())"
   ]
  },
  {
   "cell_type": "code",
   "execution_count": 12,
   "id": "c7ea3a27-ec9e-4cc6-9a31-d8f48991ab1e",
   "metadata": {},
   "outputs": [
    {
     "name": "stdin",
     "output_type": "stream",
     "text": [
      "Enter a Number 2\n"
     ]
    },
    {
     "name": "stdout",
     "output_type": "stream",
     "text": [
      "2\n"
     ]
    }
   ],
   "source": [
    "a = int(input(\"Enter a Number\"))\n",
    "# if a=1:\n",
    "#     for x in range(2,a):\n",
    "#         if (x%2) == 0:\n",
    "#             print(\"prime\")\n",
    "#             break\n",
    "#             else:\n",
    "#                 print(\"Prime\")\n",
    "# else:\n",
    "#     print(\"Not Prime\")\n",
    "print(a)"
   ]
  },
  {
   "cell_type": "code",
   "execution_count": 15,
   "id": "ab4b87b2-c9bd-4d14-acef-cb252ad6d688",
   "metadata": {},
   "outputs": [
    {
     "name": "stdout",
     "output_type": "stream",
     "text": [
      "ayhdiV scitylanA\n"
     ]
    }
   ],
   "source": [
    "str1 = \"Analytics Vidhya\"\n",
    "str2 = str1[ ::-1 ]\n",
    "print(str2)\n",
    "\n"
   ]
  },
  {
   "cell_type": "code",
   "execution_count": 16,
   "id": "48e912cc-0ffd-484f-8750-4f7e7c4a934d",
   "metadata": {},
   "outputs": [
    {
     "name": "stdout",
     "output_type": "stream",
     "text": [
      "The original string is:  Analytics Vidhya\n",
      "The reversed string is:  ayhdiV scitylanA\n"
     ]
    }
   ],
   "source": [
    "str1 = \"Analytics Vidhya\"\n",
    "str2 = \"\"\n",
    "for i in str1:\n",
    "    str2 = i + str2\n",
    "\n",
    "print(\"The original string is: \", str1)\n",
    "print(\"The reversed string is: \", str2)\n"
   ]
  },
  {
   "cell_type": "code",
   "execution_count": 20,
   "id": "eda47b7d-82f2-4984-9502-0910ad7056fc",
   "metadata": {},
   "outputs": [
    {
     "name": "stdout",
     "output_type": "stream",
     "text": [
      "None\n"
     ]
    }
   ],
   "source": [
    "Mylist = [3, 2, 1]\n",
    "mySort = Mylist.sort()\n",
    "print(mySort)"
   ]
  },
  {
   "cell_type": "code",
   "execution_count": 23,
   "id": "a7be6d92-c280-4aa5-a8b6-161c6689ea86",
   "metadata": {},
   "outputs": [
    {
     "name": "stdout",
     "output_type": "stream",
     "text": [
      "[1, 2, 3]\n"
     ]
    }
   ],
   "source": [
    "my_list = [3, 2, 1]\n",
    "my_list.sort()\n",
    "print(my_list)\n"
   ]
  },
  {
   "cell_type": "code",
   "execution_count": 26,
   "id": "7eb100da-4ad3-4b15-b0ea-06561c2b9c72",
   "metadata": {},
   "outputs": [
    {
     "name": "stdout",
     "output_type": "stream",
     "text": [
      "[2, 3, 4]\n"
     ]
    }
   ],
   "source": [
    "list1 = [1, 2, 3, 4]\n",
    "list1.remove(1)\n",
    "print(list1)\n"
   ]
  },
  {
   "cell_type": "code",
   "execution_count": 27,
   "id": "fc30945e-8338-4a14-a821-98370ca08314",
   "metadata": {},
   "outputs": [
    {
     "ename": "ModuleNotFoundError",
     "evalue": "No module named 'numpy'",
     "output_type": "error",
     "traceback": [
      "\u001b[1;31m---------------------------------------------------------------------------\u001b[0m",
      "\u001b[1;31mModuleNotFoundError\u001b[0m                       Traceback (most recent call last)",
      "Cell \u001b[1;32mIn[27], line 1\u001b[0m\n\u001b[1;32m----> 1\u001b[0m \u001b[38;5;28;01mimport\u001b[39;00m \u001b[38;5;21;01mnumpy\u001b[39;00m \u001b[38;5;28;01mas\u001b[39;00m \u001b[38;5;21;01mnp\u001b[39;00m\n\u001b[0;32m      2\u001b[0m arr1 \u001b[38;5;241m=\u001b[39m np\u001b[38;5;241m.\u001b[39marray([\u001b[38;5;241m1\u001b[39m, \u001b[38;5;241m2\u001b[39m, \u001b[38;5;241m3\u001b[39m, \u001b[38;5;241m4\u001b[39m])\n\u001b[0;32m      3\u001b[0m arr2 \u001b[38;5;241m=\u001b[39m np\u001b[38;5;241m.\u001b[39mflip(arr1)\n",
      "\u001b[1;31mModuleNotFoundError\u001b[0m: No module named 'numpy'"
     ]
    }
   ],
   "source": [
    "import numpy as np\n",
    "arr1 = np.array([1, 2, 3, 4])\n",
    "arr2 = np.flip(arr1)\n",
    "print(arr2)\n"
   ]
  },
  {
   "cell_type": "code",
   "execution_count": 4,
   "id": "d45c15ed-ab23-46f8-a785-93b0b6878b00",
   "metadata": {},
   "outputs": [
    {
     "name": "stdout",
     "output_type": "stream",
     "text": [
      "0\n",
      "2\n",
      "4\n",
      "6\n",
      "8\n"
     ]
    }
   ],
   "source": [
    "a = range(10)\n",
    "for i in a:\n",
    "    if i%2 == 0:\n",
    "        print(i)\n",
    "    "
   ]
  },
  {
   "cell_type": "code",
   "execution_count": 21,
   "id": "e866b858-be4e-4068-af85-e9e5738ab6ad",
   "metadata": {},
   "outputs": [
    {
     "name": "stdout",
     "output_type": "stream",
     "text": [
      "Genzeon\n",
      "DevOp\n"
     ]
    }
   ],
   "source": [
    "myDict = {\"Company\": \"Genzeon\", \"Role\": \"DevOp\"}\n",
    "\n",
    "myDict[\"Address\"] = \"Hith\"\n",
    "myDict.pop(\"Address\")\n",
    "for i in myDict.values():\n",
    "    print(i)"
   ]
  },
  {
   "cell_type": "code",
   "execution_count": 14,
   "id": "2334be81-fce2-45c7-b361-0f5c2ae19395",
   "metadata": {},
   "outputs": [
    {
     "name": "stdout",
     "output_type": "stream",
     "text": [
      "Hello\n",
      "range(0, 3)\n",
      "Hello\n",
      "range(0, 3)\n",
      "Hello\n",
      "range(0, 3)\n"
     ]
    }
   ],
   "source": [
    "a = range(3)\n",
    "for i in a:\n",
    "    print(\"Hello\")\n",
    "    print(a)\n"
   ]
  },
  {
   "cell_type": "code",
   "execution_count": 52,
   "id": "0efd42b9-fcab-461b-a54b-50718d7f7f51",
   "metadata": {},
   "outputs": [
    {
     "ename": "TypeError",
     "evalue": "myFunc() missing 2 required positional arguments: 'b' and 'c'",
     "output_type": "error",
     "traceback": [
      "\u001b[1;31m---------------------------------------------------------------------------\u001b[0m",
      "\u001b[1;31mTypeError\u001b[0m                                 Traceback (most recent call last)",
      "Cell \u001b[1;32mIn[52], line 4\u001b[0m\n\u001b[0;32m      1\u001b[0m \u001b[38;5;28;01mdef\u001b[39;00m \u001b[38;5;21mmyFunc\u001b[39m(a, b, c):\n\u001b[0;32m      2\u001b[0m     \u001b[38;5;28mprint\u001b[39m(a, b, c)\n\u001b[1;32m----> 4\u001b[0m \u001b[38;5;129;43m@myFunc\u001b[39;49m\n\u001b[0;32m      5\u001b[0m \u001b[38;5;28;43;01mdef\u001b[39;49;00m\u001b[43m \u001b[49m\u001b[38;5;21;43msay_hi\u001b[39;49m\u001b[43m(\u001b[49m\u001b[43mmyFunc\u001b[49m\u001b[43m)\u001b[49m\u001b[43m:\u001b[49m\n\u001b[0;32m      6\u001b[0m \u001b[43m    \u001b[49m\u001b[38;5;28;43mprint\u001b[39;49m\u001b[43m(\u001b[49m\u001b[38;5;124;43m\"\u001b[39;49m\u001b[38;5;124;43mHi!\u001b[39;49m\u001b[38;5;124;43m\"\u001b[39;49m\u001b[43m)\u001b[49m\n\u001b[0;32m      8\u001b[0m myFunc(\u001b[38;5;124m\"\u001b[39m\u001b[38;5;124mRama\u001b[39m\u001b[38;5;124m\"\u001b[39m, \u001b[38;5;124m\"\u001b[39m\u001b[38;5;124mLaxmana\u001b[39m\u001b[38;5;124m\"\u001b[39m, \u001b[38;5;124m\"\u001b[39m\u001b[38;5;124mSita\u001b[39m\u001b[38;5;124m\"\u001b[39m)\n",
      "\u001b[1;31mTypeError\u001b[0m: myFunc() missing 2 required positional arguments: 'b' and 'c'"
     ]
    }
   ],
   "source": [
    "\n",
    "def myFunc(a, b, c):\n",
    "    print(a, b, c)\n",
    "\n",
    "@myFunc\n",
    "def say_hi(myFunc):\n",
    "    print(\"Hi!\")\n",
    "    \n",
    "myFunc(\"Rama\", \"Laxmana\", \"Sita\")\n"
   ]
  },
  {
   "cell_type": "code",
   "execution_count": 39,
   "id": "d5fa7853-d2bb-482b-9913-80f334e7515d",
   "metadata": {},
   "outputs": [],
   "source": [
    "class Student():\n",
    "    def __init__(self, fname, lname, Gender):\n",
    "        self.fname = fname\n",
    "        self.lname = lname\n",
    "        self.Gender = Gender\n",
    "myObject = Student(\"Rama\", \"laxmana\", \"Sita\")\n"
   ]
  },
  {
   "cell_type": "code",
   "execution_count": 58,
   "id": "77b04ef4-8f06-41c6-a5b9-276bbd50301a",
   "metadata": {},
   "outputs": [
    {
     "name": "stdout",
     "output_type": "stream",
     "text": [
      "Windows OS detected\n"
     ]
    }
   ],
   "source": [
    "import os, platform\n",
    "\n",
    "if platform.system()==\"Windows\":\n",
    "    print(\"Windows OS detected\")\n",
    "    # os.system(\"clear\")\n",
    "else:\n",
    "    print(\"Linux OS detected\")\n",
    "    os.system(\"sleep 2\")"
   ]
  },
  {
   "cell_type": "code",
   "execution_count": 59,
   "id": "be6cd7b0-f4f7-4cf5-9b2d-9d73f1cda05e",
   "metadata": {},
   "outputs": [
    {
     "name": "stdout",
     "output_type": "stream",
     "text": [
      "<module 'ntpath' (frozen)>\n"
     ]
    }
   ],
   "source": [
    "import os\n",
    "print(os.path)"
   ]
  },
  {
   "cell_type": "code",
   "execution_count": 70,
   "id": "60c7b1c2-e65d-41ca-94c9-90822646d13c",
   "metadata": {},
   "outputs": [
    {
     "name": "stdout",
     "output_type": "stream",
     "text": [
      "Its exist\n",
      "3\n"
     ]
    }
   ],
   "source": [
    "import re\n",
    "mySTR = \"Python is easy to learn is is it\"\n",
    "if \"is\" in mySTR:\n",
    "    print(\"Its exist\")\n",
    "else:\n",
    "    Print(\"Doesnt\")\n",
    "\n",
    "myPAT = \"is\"\n",
    "a = re.findall(myPAT, mySTR)\n",
    "print(len(a))"
   ]
  },
  {
   "cell_type": "code",
   "execution_count": 1,
   "id": "92a4fe70-0956-4eeb-b7a7-fb0c2c007d18",
   "metadata": {},
   "outputs": [
    {
     "name": "stdout",
     "output_type": "stream",
     "text": [
      "Rama Sita\n"
     ]
    }
   ],
   "source": [
    "def myF(a,b):\n",
    "    print(a,b)\n",
    "myF(\"Rama\", \"Sita\")"
   ]
  },
  {
   "cell_type": "code",
   "execution_count": 4,
   "id": "78636c31-c506-423a-9781-75ce26b1f344",
   "metadata": {},
   "outputs": [
    {
     "name": "stdout",
     "output_type": "stream",
     "text": [
      "Rama\n",
      "Sita\n"
     ]
    }
   ],
   "source": [
    "class Student():\n",
    "    def __init__(self, a, b):\n",
    "        self.a = a\n",
    "        self.b = b\n",
    "\n",
    "OB = Student(\"Rama\", \"Sita\")\n",
    "print(OB.a)\n",
    "print(OB.b)\n",
    "        "
   ]
  },
  {
   "cell_type": "code",
   "execution_count": 1,
   "id": "2adb744a-63ec-48d2-a206-92c8285c1e19",
   "metadata": {},
   "outputs": [
    {
     "name": "stdin",
     "output_type": "stream",
     "text": [
      "Enter a digit:  3\n"
     ]
    },
    {
     "name": "stdout",
     "output_type": "stream",
     "text": [
      "This is odd Number\n"
     ]
    }
   ],
   "source": [
    "n = int(input(\"Enter a digit: \"))\n",
    "if n % 2 == 0:\n",
    "    print(\"This is Even Number\")\n",
    "else: \n",
    "    print(\"This is odd Number\")"
   ]
  },
  {
   "cell_type": "code",
   "execution_count": 10,
   "id": "1dd358c8-710e-49dd-9e6d-e76ea3935265",
   "metadata": {},
   "outputs": [
    {
     "data": {
      "text/plain": [
       "['is']"
      ]
     },
     "execution_count": 10,
     "metadata": {},
     "output_type": "execute_result"
    }
   ],
   "source": [
    "import re\n",
    "S = \"Python is easy to Learn\"\n",
    "myP = \"is\"\n",
    "re.findall(myP,S)"
   ]
  },
  {
   "cell_type": "code",
   "execution_count": 37,
   "id": "1db833d5-d1d5-4760-bfac-0b878617d3a1",
   "metadata": {},
   "outputs": [
    {
     "name": "stdout",
     "output_type": "stream",
     "text": [
      "-----\n",
      "name\n",
      "age\n",
      "name niru\n",
      "age 35\n"
     ]
    }
   ],
   "source": [
    "# myd = {}\n",
    "myd = {\"name\": \"niru\", \"age\": \"35\"}\n",
    "# for i in myd:\n",
    "#     print(i)\n",
    "\n",
    "print(\"-----\")\n",
    "\n",
    "mykeys = myd.keys()\n",
    "for i in mykeys:\n",
    "    print(i)\n",
    "\n",
    "for key, val in myd.items():\n",
    "    print(key, val)"
   ]
  },
  {
   "cell_type": "code",
   "execution_count": 39,
   "id": "aebcf869-3e7b-4391-a0c9-fd4f2a12b9ef",
   "metadata": {},
   "outputs": [
    {
     "name": "stdout",
     "output_type": "stream",
     "text": [
      "Dividion successful\n"
     ]
    }
   ],
   "source": [
    "try:\n",
    "    10 / 2\n",
    "except ZeroDivisionError:\n",
    "    print(\"Exception raised\")\n",
    "else:\n",
    "    print(\"Dividion successful\")"
   ]
  },
  {
   "cell_type": "code",
   "execution_count": 40,
   "id": "c543a155-b073-4248-837d-79933a0c5bbc",
   "metadata": {},
   "outputs": [],
   "source": [
    "import requests"
   ]
  },
  {
   "cell_type": "code",
   "execution_count": 8,
   "id": "f0662a35-01dd-4a47-92c3-a97d9405ed7c",
   "metadata": {},
   "outputs": [
    {
     "name": "stdin",
     "output_type": "stream",
     "text": [
      "Enter a number:  6\n"
     ]
    },
    {
     "name": "stdout",
     "output_type": "stream",
     "text": [
      "     & \n",
      "    & & \n",
      "   & & & \n",
      "  & & & & \n",
      " & & & & & \n",
      "& & & & & & \n"
     ]
    }
   ],
   "source": [
    "n = int(input(\"Enter a number: \"))\n",
    "for i in range(n):\n",
    "    print(\" \" * (n-i-1) + \"& \" * (i+1) )"
   ]
  },
  {
   "cell_type": "code",
   "execution_count": null,
   "id": "1ed03887-cfa4-4a3a-9b9c-806c57873f2b",
   "metadata": {},
   "outputs": [],
   "source": []
  }
 ],
 "metadata": {
  "kernelspec": {
   "display_name": "Python 3 (ipykernel)",
   "language": "python",
   "name": "python3"
  },
  "language_info": {
   "codemirror_mode": {
    "name": "ipython",
    "version": 3
   },
   "file_extension": ".py",
   "mimetype": "text/x-python",
   "name": "python",
   "nbconvert_exporter": "python",
   "pygments_lexer": "ipython3",
   "version": "3.12.1"
  }
 },
 "nbformat": 4,
 "nbformat_minor": 5
}
