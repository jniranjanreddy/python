{
 "cells": [
  {
   "cell_type": "code",
   "execution_count": 25,
   "id": "5a6d99d7-f06c-4161-9573-87f239ec53d5",
   "metadata": {},
   "outputs": [],
   "source": [
    "mydict = {\"name\": \" \", \"b\": \" \",  \"c\": \" \", \"d\": \" \", \"j\": \" \", \"e\": \" \", \"f\": \" \", \"g\": \" \", \"h\": \" \", \"i\": \" \"}"
   ]
  },
  {
   "cell_type": "code",
   "execution_count": 22,
   "id": "4de8912b-6f77-4df4-aefe-56f5e7e4dce9",
   "metadata": {},
   "outputs": [
    {
     "name": "stdin",
     "output_type": "stream",
     "text": [
      "Enter a string a to i b\n"
     ]
    },
    {
     "name": "stdout",
     "output_type": "stream",
     "text": [
      "{'name': ' ', 'b': 'x', 'c': ' ', 'd': ' ', 'j': ' ', 'e': ' ', 'f': ' ', 'g': ' ', 'h': ' ', 'i': ' '}\n"
     ]
    }
   ],
   "source": [
    "number = str(input(\"Enter a string a to i\"))\n",
    "\n",
    "mydict[number] = \"x\"\n",
    "\n",
    "print(mydict)\n",
    "\n"
   ]
  },
  {
   "cell_type": "code",
   "execution_count": 27,
   "id": "e5adc429-3c14-4897-aa2e-0f30d4502770",
   "metadata": {},
   "outputs": [
    {
     "name": "stdout",
     "output_type": "stream",
     "text": [
      "[0, 1, 2, 3, 4]\n"
     ]
    }
   ],
   "source": [
    "myD = []\n",
    "myD = [i for i in range(5) ]\n",
    "print(myD)\n",
    "\n"
   ]
  },
  {
   "cell_type": "code",
   "execution_count": 28,
   "id": "32f68be4-70d8-465a-adc7-d65201308d8a",
   "metadata": {},
   "outputs": [],
   "source": [
    "a,b,c = 4,5,6"
   ]
  },
  {
   "cell_type": "code",
   "execution_count": 30,
   "id": "5c79f71c-055a-4fd1-85eb-159e460fe3b9",
   "metadata": {},
   "outputs": [
    {
     "name": "stdout",
     "output_type": "stream",
     "text": [
      "6\n"
     ]
    }
   ],
   "source": [
    "print(c)"
   ]
  },
  {
   "cell_type": "code",
   "execution_count": null,
   "id": "5803ce24-5658-4160-864f-2d6bf30d4110",
   "metadata": {},
   "outputs": [],
   "source": []
  }
 ],
 "metadata": {
  "kernelspec": {
   "display_name": "Python 3 (ipykernel)",
   "language": "python",
   "name": "python3"
  },
  "language_info": {
   "codemirror_mode": {
    "name": "ipython",
    "version": 3
   },
   "file_extension": ".py",
   "mimetype": "text/x-python",
   "name": "python",
   "nbconvert_exporter": "python",
   "pygments_lexer": "ipython3",
   "version": "3.12.1"
  }
 },
 "nbformat": 4,
 "nbformat_minor": 5
}
